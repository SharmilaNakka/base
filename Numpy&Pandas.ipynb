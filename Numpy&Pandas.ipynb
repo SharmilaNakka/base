{
  "nbformat": 4,
  "nbformat_minor": 0,
  "metadata": {
    "colab": {
      "provenance": [],
      "include_colab_link": true
    },
    "kernelspec": {
      "name": "python3",
      "display_name": "Python 3"
    },
    "language_info": {
      "name": "python"
    }
  },
  "cells": [
    {
      "cell_type": "markdown",
      "metadata": {
        "id": "view-in-github",
        "colab_type": "text"
      },
      "source": [
        "<a href=\"https://colab.research.google.com/github/SharmilaNakka/base/blob/main/Numpy%26Pandas.ipynb\" target=\"_parent\"><img src=\"https://colab.research.google.com/assets/colab-badge.svg\" alt=\"Open In Colab\"/></a>"
      ]
    },
    {
      "cell_type": "code",
      "execution_count": null,
      "metadata": {
        "colab": {
          "base_uri": "https://localhost:8080/"
        },
        "id": "DA-Pjo2nx4cW",
        "outputId": "e8b2a952-099e-483b-ba30-245f65e98046"
      },
      "outputs": [
        {
          "output_type": "stream",
          "name": "stdout",
          "text": [
            "[10, 10, 10]\n",
            "[10, 10, 10]\n",
            "[10, 10, 10]\n"
          ]
        }
      ],
      "source": [
        "import numpy as np\n",
        "X = [[1,2,3],\n",
        "    [4 ,5,6],\n",
        "    [7 ,8,9]]\n",
        "\n",
        "Y = [[9,8,7],\n",
        "    [6,5,4],\n",
        "    [3,2,1]]\n",
        "\n",
        "\n",
        "result = [[0,0,0],\n",
        "        [0,0,0],\n",
        "        [0,0,0]]\n",
        "\n",
        "# iterate through rows\n",
        "for i in range(len(X)):\n",
        "# iterate through columns\n",
        "    for j in range(len(X[0])):\n",
        "        result[i][j] = X[i][j] + Y[i][j]\n",
        "\n",
        "for r in result:\n",
        "    print(r)"
      ]
    },
    {
      "cell_type": "code",
      "source": [
        "\n",
        "\n"
      ],
      "metadata": {
        "id": "wO7DQ4cfo3WN"
      },
      "execution_count": null,
      "outputs": []
    },
    {
      "cell_type": "code",
      "source": [],
      "metadata": {
        "id": "JM7hhVkarElX"
      },
      "execution_count": null,
      "outputs": []
    },
    {
      "cell_type": "code",
      "source": [],
      "metadata": {
        "id": "nFEZFpK0rHH9"
      },
      "execution_count": null,
      "outputs": []
    },
    {
      "cell_type": "code",
      "source": [],
      "metadata": {
        "id": "S-yZIw2bvk1v"
      },
      "execution_count": null,
      "outputs": []
    },
    {
      "cell_type": "code",
      "source": [],
      "metadata": {
        "id": "tLFBT320sKkg"
      },
      "execution_count": null,
      "outputs": []
    },
    {
      "cell_type": "code",
      "source": [],
      "metadata": {
        "id": "rFh2HXBW9fS7"
      },
      "execution_count": null,
      "outputs": []
    },
    {
      "cell_type": "code",
      "source": [],
      "metadata": {
        "id": "S5hljx0yB82j"
      },
      "execution_count": null,
      "outputs": []
    },
    {
      "cell_type": "code",
      "source": [],
      "metadata": {
        "id": "gowGhdkf_tRp"
      },
      "execution_count": null,
      "outputs": []
    },
    {
      "cell_type": "code",
      "source": [],
      "metadata": {
        "id": "qDg7RSSSAnzo"
      },
      "execution_count": null,
      "outputs": []
    },
    {
      "cell_type": "code",
      "source": [
        "import numpy as np\n",
        "arr=np.array([1,2,3,4,5])\n",
        "print(arr)\n",
        "a=np.zeros((3,3),dtype=int)\n",
        "print(a)\n",
        "b=np.ones((2,2),dtype=int)\n",
        "print(b)\n",
        "a_range=np.arange(10)\n",
        "print(a_range)\n",
        "reshaped_arr=arr.reshape(5,1)\n",
        "print(reshaped_arr)\n",
        "sliced_arr=arr[2:4]\n",
        "print(sliced_arr)\n",
        "\n",
        "\n",
        "\n",
        "\n",
        "\n",
        "\n"
      ],
      "metadata": {
        "colab": {
          "base_uri": "https://localhost:8080/"
        },
        "id": "5nuZ5Lob7iP5",
        "outputId": "9cd15681-bb70-4e4a-dc2c-6bb0948205b4"
      },
      "execution_count": null,
      "outputs": [
        {
          "output_type": "stream",
          "name": "stdout",
          "text": [
            "[1 2 3 4 5]\n",
            "[[0 0 0]\n",
            " [0 0 0]\n",
            " [0 0 0]]\n",
            "[[1 1]\n",
            " [1 1]]\n",
            "[0 1 2 3 4 5 6 7 8 9]\n",
            "[[1]\n",
            " [2]\n",
            " [3]\n",
            " [4]\n",
            " [5]]\n",
            "[3 4]\n"
          ]
        }
      ]
    },
    {
      "cell_type": "code",
      "source": [
        "arr1=np.array([1,2,3,4,5])\n",
        "print(arr1)\n",
        "arr2=np.array([3,4,5,6,7])\n",
        "print(arr2)\n",
        "result=arr1+arr2\n",
        "print(result)\n",
        "arr1=np.array([1,2,3,4,5])\n",
        "print(arr1)\n",
        "b=arr1+3\n",
        "print(b)"
      ],
      "metadata": {
        "colab": {
          "base_uri": "https://localhost:8080/"
        },
        "id": "l1uFBrWPAdJQ",
        "outputId": "855eec6b-c98c-43bf-e2f9-649b1c0232a5"
      },
      "execution_count": null,
      "outputs": [
        {
          "output_type": "stream",
          "name": "stdout",
          "text": [
            "[1 2 3 4 5]\n",
            "[3 4 5 6 7]\n",
            "[ 4  6  8 10 12]\n",
            "[1 2 3 4 5]\n",
            "[4 5 6 7 8]\n"
          ]
        }
      ]
    },
    {
      "cell_type": "code",
      "source": [
        "a1=np.array([1,2,3,4,5])\n",
        "print(a1)\n",
        "a2=np.array([3,4,5,6,7])\n",
        "print(a2)\n",
        "a3=np.vstack(a1+a2)\n",
        "print(a3)\n",
        "a1=np.array([1,2,3,4,5])\n",
        "print(a1)\n",
        "a2=np.array([3,4,5,6,7])\n",
        "print(a2)\n",
        "a3=np.stack(a1+a2)\n",
        "print(a3)\n",
        "c=np.array([1,2,3,4,5,6,7,8])\n",
        "b=np.split(c,4)\n",
        "print(b)\n"
      ],
      "metadata": {
        "colab": {
          "base_uri": "https://localhost:8080/"
        },
        "id": "AxgVuv-nCdQG",
        "outputId": "6fd090d8-4c67-4957-b4a2-a8e79ba28e6c"
      },
      "execution_count": null,
      "outputs": [
        {
          "output_type": "stream",
          "name": "stdout",
          "text": [
            "[1 2 3 4 5]\n",
            "[3 4 5 6 7]\n",
            "[[ 4]\n",
            " [ 6]\n",
            " [ 8]\n",
            " [10]\n",
            " [12]]\n",
            "[1 2 3 4 5]\n",
            "[3 4 5 6 7]\n",
            "[ 4  6  8 10 12]\n",
            "[array([1, 2]), array([3, 4]), array([5, 6]), array([7, 8])]\n"
          ]
        }
      ]
    },
    {
      "cell_type": "code",
      "source": [
        "a1=np.array([[1,2,3,4],[5,6,7,8]])\n",
        "print(a1)\n",
        "b=a1.T\n",
        "print(b)"
      ],
      "metadata": {
        "colab": {
          "base_uri": "https://localhost:8080/"
        },
        "id": "Kzvk2eK8Ig-W",
        "outputId": "56e6b540-2244-4b43-fafb-30833d69347c"
      },
      "execution_count": null,
      "outputs": [
        {
          "output_type": "stream",
          "name": "stdout",
          "text": [
            "[[1 2 3 4]\n",
            " [5 6 7 8]]\n",
            "[[1 5]\n",
            " [2 6]\n",
            " [3 7]\n",
            " [4 8]]\n"
          ]
        }
      ]
    },
    {
      "cell_type": "code",
      "source": [
        "b1=np.array([[1,2],[3,4]])\n",
        "print(b1)\n",
        "b2=np.array([[5,6],[7,8]])\n",
        "print(b2)\n",
        "c1=np.dot(b1,b2)\n",
        "print(c1)\n",
        "d1=np.linalg.eig(c1)\n",
        "print(d1)\n",
        "e1=np.array([[1,2,3],[4,5,6]])\n",
        "print(e1)\n",
        "e2=np.array([[1,2,3],[4,5,6]])\n",
        "print(e2)\n",
        "e3=np.sum(e1+e2)\n",
        "print(e3)\n"
      ],
      "metadata": {
        "colab": {
          "base_uri": "https://localhost:8080/"
        },
        "id": "ABOfc7XgJqOE",
        "outputId": "60362d23-c3c5-4a06-aba6-55140ff32b7e"
      },
      "execution_count": null,
      "outputs": [
        {
          "output_type": "stream",
          "name": "stdout",
          "text": [
            "[[1 2]\n",
            " [3 4]]\n",
            "[[5 6]\n",
            " [7 8]]\n",
            "[[19 22]\n",
            " [43 50]]\n",
            "(array([5.80198014e-02, 6.89419802e+01]), array([[-0.75781077, -0.40313049],\n",
            "       [ 0.65247439, -0.91514251]]))\n",
            "[[1 2 3]\n",
            " [4 5 6]]\n",
            "[[1 2 3]\n",
            " [4 5 6]]\n",
            "42\n"
          ]
        }
      ]
    },
    {
      "cell_type": "code",
      "source": [
        "e1=np.array([[1,2,3],[4,5,6]])\n",
        "print(e1)\n",
        "e4=np.sum(e1,axis=0)\n",
        "print(e4)\n",
        "e5=np.sum(e1,axis=1)\n",
        "print(e5)\n",
        "arr11=np.array([1,2,3,4,5])\n",
        "print(arr11)\n",
        "arr22=np.mean(arr11)\n",
        "print(arr22)\n",
        "arr33=np.median(arr11)\n",
        "print(arr33)\n",
        "arr44=np.var(arr11)\n",
        "print(arr44)\n",
        "arr55=np.std(arr11)\n",
        "print(arr55)\n",
        "data=np.loadtxt(\"/content/txt_a.txt\")\n",
        "print(data)\n",
        "data=np.loadtxt(\"/content/txt_a.txt\",dtype=int)\n",
        "print(data)\n",
        "data=np.savetxt(\"/content/txt_b.txt\",data)\n",
        "print(data)\n",
        "\n",
        "\n",
        "\n"
      ],
      "metadata": {
        "colab": {
          "base_uri": "https://localhost:8080/"
        },
        "id": "5EwFGawsgCaW",
        "outputId": "7b29ff4a-f3f3-458b-b309-01ab874eec2e"
      },
      "execution_count": null,
      "outputs": [
        {
          "output_type": "stream",
          "name": "stdout",
          "text": [
            "[[1 2 3]\n",
            " [4 5 6]]\n",
            "[5 7 9]\n",
            "[ 6 15]\n",
            "[1 2 3 4 5]\n",
            "3.0\n",
            "3.0\n",
            "2.0\n",
            "1.4142135623730951\n",
            "[[1. 2. 3.]\n",
            " [4. 5. 6.]\n",
            " [7. 8. 9.]]\n",
            "[[1 2 3]\n",
            " [4 5 6]\n",
            " [7 8 9]]\n",
            "None\n"
          ]
        },
        {
          "output_type": "stream",
          "name": "stderr",
          "text": [
            "<ipython-input-21-fe6debf76efc>:19: DeprecationWarning: loadtxt(): Parsing an integer via a float is deprecated.  To avoid this warning, you can:\n",
            "    * make sure the original data is stored as integers.\n",
            "    * use the `converters=` keyword argument.  If you only use\n",
            "      NumPy 1.23 or later, `converters=float` will normally work.\n",
            "    * Use `np.loadtxt(...).astype(np.int64)` parsing the file as\n",
            "      floating point and then convert it.  (On all NumPy versions.)\n",
            "  (Deprecated NumPy 1.23)\n",
            "  data=np.loadtxt(\"/content/txt_a.txt\",dtype=int)\n"
          ]
        }
      ]
    },
    {
      "cell_type": "code",
      "source": [
        "import matplotlib.pyplot as plt\n",
        "a=np.array([1,2,3,4,5,6,7,8,9,10])\n",
        "plt.plot(a)"
      ],
      "metadata": {
        "colab": {
          "base_uri": "https://localhost:8080/",
          "height": 447
        },
        "id": "36jzBEkqvPQe",
        "outputId": "4b4e4ef3-814b-4835-e710-3249f04069e2"
      },
      "execution_count": null,
      "outputs": [
        {
          "output_type": "execute_result",
          "data": {
            "text/plain": [
              "[<matplotlib.lines.Line2D at 0x7fc254ee2bf0>]"
            ]
          },
          "metadata": {},
          "execution_count": 24
        },
        {
          "output_type": "display_data",
          "data": {
            "text/plain": [
              "<Figure size 640x480 with 1 Axes>"
            ],
            "image/png": "[encoded data removed]"
          },
          "metadata": {}
        }
      ]
    },
    {
      "cell_type": "code",
      "source": [],
      "metadata": {
        "id": "T7bVCSWA74cc"
      },
      "execution_count": null,
      "outputs": []
    },
    {
      "cell_type": "code",
      "source": [
        "import pandas as pd\n",
        "a=[\"Jwalitha\",\"Ramya\",\"Durga\",\"Jahnavi\",\"Lahari\",\"sunny\",\"Dhanush\"]\n",
        "r=pd.Series(a,index=[67,43,44,89,34,45,73])\n",
        "print(r)\n",
        "df=pd.read_csv(\"/content/netflix_revenue_updated.csv\")\n",
        "print(df)\n",
        "df=pd.read_csv(\"/content/netflix_revenue_updated.csv\",sep=\" \")\n",
        "print(df)\n",
        "df=pd.read_csv(\"/content/file1.txt\",sep=\" \")\n",
        "print(df)\n",
        "\n",
        "\n",
        "\n",
        "\n",
        "\n"
      ],
      "metadata": {
        "colab": {
          "base_uri": "https://localhost:8080/"
        },
        "id": "nP0jAkXEsPQB",
        "outputId": "30fe7d5d-0668-46ec-f360-3d9c321a9232"
      },
      "execution_count": null,
      "outputs": [
        {
          "output_type": "stream",
          "name": "stdout",
          "text": [
            "67    Jwalitha\n",
            "43       Ramya\n",
            "44       Durga\n",
            "89     Jahnavi\n",
            "34      Lahari\n",
            "45       sunny\n",
            "73     Dhanush\n",
            "dtype: object\n",
            "          Date  Global Revenue  UCAN Streaming Revenue  \\\n",
            "0   31-03-2019      4520992000              2256851000   \n",
            "1   30-06-2019      4923116000              2501199000   \n",
            "2   30-09-2019      5244905000              2621250000   \n",
            "3   31-12-2019      5467434000              2671908000   \n",
            "4   31-03-2020      5767691000              2702776000   \n",
            "5   30-06-2020      6148286000              2839670000   \n",
            "6   30-09-2020      6435637000              2933445000   \n",
            "7   31-12-2020      6644442000              2979505000   \n",
            "8   31-03-2021      7163282000              3170972000   \n",
            "9   30-06-2021      7341777000              3234643000   \n",
            "10  30-09-2021      7483467000              3257697000   \n",
            "11  31-12-2021      7709318000              3308788000   \n",
            "12  31-03-2022      7867767000              3350424000   \n",
            "13  30-06-2022      7970141000              3537863000   \n",
            "14  30-09-2022      7925589000              3601565000   \n",
            "15  31-12-2022      7852053000              3594791000   \n",
            "16  31-03-2023      8161503000              3608645000   \n",
            "\n",
            "    EMEA Streaming Revenue  LATM Streaming Revenue  APAC Streaming Revenue  \\\n",
            "0               1233379000               630472000               319602000   \n",
            "1               1319087000               677136000               349494000   \n",
            "2               1428040000               741434000               382304000   \n",
            "3               1562561000               746392000               418121000   \n",
            "4               1723474000               793453000               483660000   \n",
            "5               1892537000               785368000               569140000   \n",
            "6               2019083000               789384000               634891000   \n",
            "7               2137158000               788522000               684609000   \n",
            "8               2343674000               836647000               762414000   \n",
            "9               2400480000               860882000               799480000   \n",
            "10              2432239000               915297000               834002000   \n",
            "11              2523426000               964150000               870705000   \n",
            "12              2561831000               998948000               916754000   \n",
            "13              2457235000              1030234000               907719000   \n",
            "14              2375814000              1023945000               889037000   \n",
            "15              2350135000              1016846000               856711000   \n",
            "16              2517641000              1070192000               933523000   \n",
            "\n",
            "    UCAN Members  EMEA  Members  LATM Members  APAC Members  UCAN ARPU  \\\n",
            "0       66633000       42542000      27547000      12141000      11.45   \n",
            "1       66501000       44229000      27890000      12942000      12.52   \n",
            "2       67114000       47355000      29380000      14485000      13.08   \n",
            "3       67662000       51778000      31417000      16233000      13.22   \n",
            "4       69969000       58734000      34318000      19835000      13.09   \n",
            "5       72904000       61483000      36068000      22492000      13.25   \n",
            "6       73081000       62242000      36324000      23504000      13.40   \n",
            "7       73936000       66698000      37537000      25492000      13.51   \n",
            "8       74384000       68508000      37894000      26853000      14.25   \n",
            "9       73951000       68696000      38658000      27875000      14.54   \n",
            "10      74024000       70500000      38988000      30051000      14.68   \n",
            "11      75215000       74036000      39961000      32632000      14.78   \n",
            "12      74579000       73733000      39610000      33719000      14.91   \n",
            "13      73283000       72966000      39624000      34799000      15.95   \n",
            "14      73387000       73534000      39936000      36228000      16.37   \n",
            "15      74296000       76729000      41699000      38023000      16.23   \n",
            "16      74398000       77373000      41249000      39478000      16.18   \n",
            "\n",
            "    EMEA ARPU  LATM  ARPU  APAC  ARPU  Netflix Streaming Memberships   \n",
            "0       10.23        7.84        9.37                       148863000  \n",
            "1       10.13        8.14        9.29                       151562000  \n",
            "2       10.40        8.63        9.29                       158334000  \n",
            "3       10.51        8.18        9.07                       167090000  \n",
            "4       10.40        8.05        8.94                       182856000  \n",
            "5       10.50        7.44        8.96                       192947000  \n",
            "6       10.88        7.27        9.20                       195151000  \n",
            "7       11.05        7.12        9.32                       203663000  \n",
            "8       11.56        7.39        9.71                       207639000  \n",
            "9       11.66        7.50        9.74                       209180000  \n",
            "10      11.65        7.86        9.60                       213563000  \n",
            "11      11.64        8.14        9.26                       221844000  \n",
            "12      11.56        8.37        9.21                       221641000  \n",
            "13      11.17        8.67        8.83                       220672000  \n",
            "14      10.81        8.58        8.34                       223085000  \n",
            "15      10.43        8.30        7.69                       230747000  \n",
            "16      10.89        8.60        8.03                       232498000  \n",
            "                                          Date,Global  Revenue,UCAN  \\\n",
            "0   31-03-2019,4520992000,2256851000,1233379000,63...           NaN   \n",
            "1   30-06-2019,4923116000,2501199000,1319087000,67...           NaN   \n",
            "2   30-09-2019,5244905000,2621250000,1428040000,74...           NaN   \n",
            "3   31-12-2019,5467434000,2671908000,1562561000,74...           NaN   \n",
            "4   31-03-2020,5767691000,2702776000,1723474000,79...           NaN   \n",
            "5   30-06-2020,6148286000,2839670000,1892537000,78...           NaN   \n",
            "6   30-09-2020,6435637000,2933445000,2019083000,78...           NaN   \n",
            "7   31-12-2020,6644442000,2979505000,2137158000,78...           NaN   \n",
            "8   31-03-2021,7163282000,3170972000,2343674000,83...           NaN   \n",
            "9   30-06-2021,7341777000,3234643000,2400480000,86...           NaN   \n",
            "10  30-09-2021,7483467000,3257697000,2432239000,91...           NaN   \n",
            "11  31-12-2021,7709318000,3308788000,2523426000,96...           NaN   \n",
            "12  31-03-2022,7867767000,3350424000,2561831000,99...           NaN   \n",
            "13  30-06-2022,7970141000,3537863000,2457235000,10...           NaN   \n",
            "14  30-09-2022,7925589000,3601565000,2375814000,10...           NaN   \n",
            "15  31-12-2022,7852053000,3594791000,2350135000,10...           NaN   \n",
            "16  31-03-2023,8161503000,3608645000,2517641000,10...           NaN   \n",
            "\n",
            "    Streaming  Revenue,EMEA  Streaming.1  Revenue,LATM  Streaming.2  \\\n",
            "0         NaN           NaN          NaN           NaN          NaN   \n",
            "1         NaN           NaN          NaN           NaN          NaN   \n",
            "2         NaN           NaN          NaN           NaN          NaN   \n",
            "3         NaN           NaN          NaN           NaN          NaN   \n",
            "4         NaN           NaN          NaN           NaN          NaN   \n",
            "5         NaN           NaN          NaN           NaN          NaN   \n",
            "6         NaN           NaN          NaN           NaN          NaN   \n",
            "7         NaN           NaN          NaN           NaN          NaN   \n",
            "8         NaN           NaN          NaN           NaN          NaN   \n",
            "9         NaN           NaN          NaN           NaN          NaN   \n",
            "10        NaN           NaN          NaN           NaN          NaN   \n",
            "11        NaN           NaN          NaN           NaN          NaN   \n",
            "12        NaN           NaN          NaN           NaN          NaN   \n",
            "13        NaN           NaN          NaN           NaN          NaN   \n",
            "14        NaN           NaN          NaN           NaN          NaN   \n",
            "15        NaN           NaN          NaN           NaN          NaN   \n",
            "16        NaN           NaN          NaN           NaN          NaN   \n",
            "\n",
            "    Revenue,APAC  Streaming.3  Revenue,UCAN.1  ...  Members,UCAN  ARPU,EMEA  \\\n",
            "0            NaN          NaN             NaN  ...           NaN        NaN   \n",
            "1            NaN          NaN             NaN  ...           NaN        NaN   \n",
            "2            NaN          NaN             NaN  ...           NaN        NaN   \n",
            "3            NaN          NaN             NaN  ...           NaN        NaN   \n",
            "4            NaN          NaN             NaN  ...           NaN        NaN   \n",
            "5            NaN          NaN             NaN  ...           NaN        NaN   \n",
            "6            NaN          NaN             NaN  ...           NaN        NaN   \n",
            "7            NaN          NaN             NaN  ...           NaN        NaN   \n",
            "8            NaN          NaN             NaN  ...           NaN        NaN   \n",
            "9            NaN          NaN             NaN  ...           NaN        NaN   \n",
            "10           NaN          NaN             NaN  ...           NaN        NaN   \n",
            "11           NaN          NaN             NaN  ...           NaN        NaN   \n",
            "12           NaN          NaN             NaN  ...           NaN        NaN   \n",
            "13           NaN          NaN             NaN  ...           NaN        NaN   \n",
            "14           NaN          NaN             NaN  ...           NaN        NaN   \n",
            "15           NaN          NaN             NaN  ...           NaN        NaN   \n",
            "16           NaN          NaN             NaN  ...           NaN        NaN   \n",
            "\n",
            "    ARPU,LATM  Unnamed: 17  ARPU,APAC  Unnamed: 19  ARPU,Netflix  Streaming.4  \\\n",
            "0         NaN          NaN        NaN          NaN           NaN          NaN   \n",
            "1         NaN          NaN        NaN          NaN           NaN          NaN   \n",
            "2         NaN          NaN        NaN          NaN           NaN          NaN   \n",
            "3         NaN          NaN        NaN          NaN           NaN          NaN   \n",
            "4         NaN          NaN        NaN          NaN           NaN          NaN   \n",
            "5         NaN          NaN        NaN          NaN           NaN          NaN   \n",
            "6         NaN          NaN        NaN          NaN           NaN          NaN   \n",
            "7         NaN          NaN        NaN          NaN           NaN          NaN   \n",
            "8         NaN          NaN        NaN          NaN           NaN          NaN   \n",
            "9         NaN          NaN        NaN          NaN           NaN          NaN   \n",
            "10        NaN          NaN        NaN          NaN           NaN          NaN   \n",
            "11        NaN          NaN        NaN          NaN           NaN          NaN   \n",
            "12        NaN          NaN        NaN          NaN           NaN          NaN   \n",
            "13        NaN          NaN        NaN          NaN           NaN          NaN   \n",
            "14        NaN          NaN        NaN          NaN           NaN          NaN   \n",
            "15        NaN          NaN        NaN          NaN           NaN          NaN   \n",
            "16        NaN          NaN        NaN          NaN           NaN          NaN   \n",
            "\n",
            "    Memberships  Unnamed: 23  \n",
            "0           NaN          NaN  \n",
            "1           NaN          NaN  \n",
            "2           NaN          NaN  \n",
            "3           NaN          NaN  \n",
            "4           NaN          NaN  \n",
            "5           NaN          NaN  \n",
            "6           NaN          NaN  \n",
            "7           NaN          NaN  \n",
            "8           NaN          NaN  \n",
            "9           NaN          NaN  \n",
            "10          NaN          NaN  \n",
            "11          NaN          NaN  \n",
            "12          NaN          NaN  \n",
            "13          NaN          NaN  \n",
            "14          NaN          NaN  \n",
            "15          NaN          NaN  \n",
            "16          NaN          NaN  \n",
            "\n",
            "[17 rows x 24 columns]\n",
            "   file1\n",
            "0  file2\n",
            "1  file3\n",
            "2  file4\n"
          ]
        }
      ]
    },
    {
      "cell_type": "code",
      "source": [],
      "metadata": {
        "id": "WU4AeyVs7jeU"
      },
      "execution_count": null,
      "outputs": []
    },
    {
      "cell_type": "code",
      "source": [
        "df=pd.read_excel(\"/content/salesworkload.xlsx\",sheet_name=1)\n",
        "print(df)"
      ],
      "metadata": {
        "colab": {
          "base_uri": "https://localhost:8080/"
        },
        "id": "1UNoZEzd0sps",
        "outputId": "157f64ce-1868-4bd5-83da-fdd6c80b77e9"
      },
      "execution_count": null,
      "outputs": [
        {
          "output_type": "stream",
          "name": "stdout",
          "text": [
            "   Unnamed: 0             Unnamed: 1       Unnamed: 2 Unnamed: 3  \\\n",
            "0         NaN                    NaN              NaN        NaN   \n",
            "1         NaN                    NaN              NaN        NaN   \n",
            "2         NaN                    NaN              NaN        NaN   \n",
            "3         NaN                    NaN              NaN        NaN   \n",
            "4          id             Store name           Region     Scheme   \n",
            "5       88253       88253 London (I)   United Kingdom     Type A   \n",
            "6       38976       38976 Manchester   United Kingdom     Type A   \n",
            "7       17647        17647 Liverpool   United Kingdom     Type A   \n",
            "8       22117       22117 Birmingham   United Kingdom     Type A   \n",
            "9       73949        73949 Leicester   United Kingdom     Type B   \n",
            "10      18808      18808 London (II)   United Kingdom     Type B   \n",
            "11      71991       71991 Warsaw (I)           Poland     Type A   \n",
            "12      86208      86208 Warsaw (II)           Poland     Type B   \n",
            "13      23623           23623 Poznan           Poland     Type A   \n",
            "14      19769           19769 Krakow           Poland     Type A   \n",
            "15      15552        15552 Amsterdam  The Netherlands     Type A   \n",
            "16      95434         95434 Den Haag  The Netherlands     Type B   \n",
            "17      93033        93033 Rotterdam  The Netherlands     Type A   \n",
            "18      85321        85321 Groningen  The Netherlands     Type A   \n",
            "19      38560       38560 Prague (I)   Czech Republic     Type A   \n",
            "20      20891             20891 Brno   Czech Republic     Type A   \n",
            "21      45583          45583 Ostrava   Czech Republic     Type A   \n",
            "22      85696      85696 Prague (II)   Czech Republic     Type B   \n",
            "23      32949   32949 Copenhagen (I)          Denmark     Type A   \n",
            "24      96857  96857 Copenhagen (II)          Denmark     Type A   \n",
            "25      87703      87703 Aalborg (I)          Denmark     Type A   \n",
            "26      19000     19000 Aalborg (II)          Denmark     Type B   \n",
            "27      88994       88994 Madrid (I)            Spain     Type A   \n",
            "28      20166      20166 Madrid (II)            Spain     Type A   \n",
            "29      16927    16927 Barcelona (I)            Spain     Type A   \n",
            "30      96493   96493 Barcelona (II)            Spain     Type A   \n",
            "31      88750           88750 Bilbao            Spain     Type A   \n",
            "32      78450         78450 Rome (I)            Italy     Type B   \n",
            "33      94153        94153 Rome (II)            Italy     Type A   \n",
            "34      64983           64983 Milano            Italy     Type C   \n",
            "35      77348          77348 Bologna            Italy     Type B   \n",
            "36      78325           78325 Napoli            Italy     Type A   \n",
            "37      83160       83160 Berlin (I)          Germany     Type A   \n",
            "38      12227      12227 Berlin (II)          Germany     Type A   \n",
            "39      94882           94882 Munich          Germany     Type B   \n",
            "40      34378          34378 Hamburg          Germany     Type A   \n",
            "41      42367        42367 Frankfurt          Germany     Type A   \n",
            "42      86089          86089 Cologne          Germany     Type A   \n",
            "43      98422        98422 Paris (I)           France     Type B   \n",
            "44      79785       79785 Paris (II)           France     Type B   \n",
            "45      63354        63354 Marseille           France     Type A   \n",
            "46      85124             85124 Lyon           France     Type B   \n",
            "47      73422         73422 Bordeaux           France     Type A   \n",
            "48      91973           91973 Nantes           France     Type B   \n",
            "49      19340     19340 Brussels (I)          Belgium     Type A   \n",
            "50      76852    76852 Brussels (II)          Belgium     Type A   \n",
            "51      73762          73762 Antwerp          Belgium     Type A   \n",
            "52      81473        81473 Stockholm           Sweden     Type A   \n",
            "53      90992            90992 Malmö           Sweden     Type A   \n",
            "54      29650       29650 Gothenburg           Sweden     Type A   \n",
            "\n",
            "        Unnamed: 4  Unnamed: 5  Unnamed: 6  Unnamed: 7  Unnamed: 8  \\\n",
            "0              NaN         NaN         NaN         NaN         NaN   \n",
            "1              NaN         NaN         NaN         NaN         NaN   \n",
            "2   Month-by-month         NaN         NaN         NaN         NaN   \n",
            "3          10.2016     11.2016     12.2016      1.2017      2.2017   \n",
            "4               10     11.0000     12.0000      1.0000      2.0000   \n",
            "5              382    367.0000    350.0000    382.0000    352.0000   \n",
            "6              382    367.0000    350.0000    382.0000    352.0000   \n",
            "7              382    367.0000    350.0000    382.0000    352.0000   \n",
            "8              382    367.0000    350.0000    382.0000    352.0000   \n",
            "9              342    342.0000    313.0000    342.0000    314.0000   \n",
            "10             342    342.0000    313.0000    342.0000    314.0000   \n",
            "11             382    367.0000    350.0000    382.0000    352.0000   \n",
            "12             354    354.0000    325.0000    354.0000    326.0000   \n",
            "13             382    367.0000    350.0000    382.0000    352.0000   \n",
            "14             382    367.0000    350.0000    382.0000    352.0000   \n",
            "15             382    367.0000    350.0000    382.0000    352.0000   \n",
            "16             366    366.0000    337.0000    366.0000    338.0000   \n",
            "17             382    367.0000    350.0000    382.0000    352.0000   \n",
            "18             382    367.0000    350.0000    382.0000    352.0000   \n",
            "19             382    367.0000    350.0000    382.0000    352.0000   \n",
            "20             382    367.0000    350.0000    382.0000    352.0000   \n",
            "21             382    367.0000    350.0000    382.0000    352.0000   \n",
            "22             354    354.0000    325.0000    354.0000    326.0000   \n",
            "23             382    367.0000    350.0000    382.0000    352.0000   \n",
            "24             382    367.0000    350.0000    382.0000    352.0000   \n",
            "25             382    367.0000    350.0000    382.0000    352.0000   \n",
            "26             378    378.0000    349.0000    378.0000    350.0000   \n",
            "27             382    367.0000    350.0000    382.0000    352.0000   \n",
            "28             382    367.0000    350.0000    382.0000    352.0000   \n",
            "29             382    367.0000    350.0000    382.0000    352.0000   \n",
            "30             382    367.0000    350.0000    382.0000    352.0000   \n",
            "31             382    367.0000    350.0000    382.0000    352.0000   \n",
            "32             354    354.0000    325.0000    354.0000    326.0000   \n",
            "33             382    367.0000    350.0000    382.0000    352.0000   \n",
            "34             366    352.0000    335.0000    366.0000    337.0000   \n",
            "35             354    354.0000    325.0000    354.0000    326.0000   \n",
            "36             382    367.0000    350.0000    382.0000    352.0000   \n",
            "37             382    367.0000    350.0000    382.0000    352.0000   \n",
            "38             382    367.0000    350.0000    382.0000    352.0000   \n",
            "39             342    342.0000    313.0000    342.0000    314.0000   \n",
            "40             382    367.0000    350.0000    382.0000    352.0000   \n",
            "41             382    367.0000    350.0000    382.0000    352.0000   \n",
            "42             382    367.0000    350.0000    382.0000    352.0000   \n",
            "43             354    354.0000    325.0000    354.0000    326.0000   \n",
            "44             354    354.0000    325.0000    354.0000    326.0000   \n",
            "45             382    367.0000    350.0000    382.0000    352.0000   \n",
            "46             354    354.0000    325.0000    354.0000    326.0000   \n",
            "47             382    367.0000    350.0000    382.0000    352.0000   \n",
            "48             354    354.0000    325.0000    354.0000    326.0000   \n",
            "49             382    367.0000    350.0000    382.0000    352.0000   \n",
            "50             382    367.0000    350.0000    382.0000    352.0000   \n",
            "51             382    367.0000    350.0000    382.0000    352.0000   \n",
            "52             382    367.0000    350.0000    382.0000    352.0000   \n",
            "53             382    367.0000    350.0000    382.0000    352.0000   \n",
            "54             382    367.0000    350.0000    382.0000    352.0000   \n",
            "\n",
            "    Unnamed: 9  ...  Unnamed: 19  Unnamed: 20  Unnamed: 21  Unnamed: 22  \\\n",
            "0          NaN  ...          NaN          NaN          NaN          NaN   \n",
            "1          NaN  ...          NaN          NaN          NaN          NaN   \n",
            "2          NaN  ...          NaN          NaN          NaN          NaN   \n",
            "3       3.2017  ...      12.2016       1.2017       2.2017       3.2017   \n",
            "4       3.0000  ...      12.0000       1.0000       2.0000       3.0000   \n",
            "5     380.0000  ...    1099.0000    1481.0000    1833.0000    2213.0000   \n",
            "6     380.0000  ...    1099.0000    1481.0000    1833.0000    2213.0000   \n",
            "7     380.0000  ...    1099.0000    1481.0000    1833.0000    2213.0000   \n",
            "8     380.0000  ...    1099.0000    1481.0000    1833.0000    2213.0000   \n",
            "9     341.0000  ...     997.0000    1339.0000    1653.0000    1994.0000   \n",
            "10    341.0000  ...     997.0000    1339.0000    1653.0000    1994.0000   \n",
            "11    380.0000  ...    1099.0000    1481.0000    1833.0000    2213.0000   \n",
            "12    353.0000  ...    1033.0000    1387.0000    1713.0000    2066.0000   \n",
            "13    380.0000  ...    1099.0000    1481.0000    1833.0000    2213.0000   \n",
            "14    380.0000  ...    1099.0000    1481.0000    1833.0000    2213.0000   \n",
            "15    380.0000  ...    1099.0000    1481.0000    1833.0000    2213.0000   \n",
            "16    365.0000  ...    1069.0000    1435.0000    1773.0000    2138.0000   \n",
            "17    380.0000  ...    1099.0000    1481.0000    1833.0000    2213.0000   \n",
            "18    380.0000  ...    1099.0000    1481.0000    1833.0000    2213.0000   \n",
            "19    380.0000  ...    1099.0000    1481.0000    1833.0000    2213.0000   \n",
            "20    380.0000  ...    1099.0000    1481.0000    1833.0000    2213.0000   \n",
            "21    380.0000  ...    1099.0000    1481.0000    1833.0000    2213.0000   \n",
            "22    353.0000  ...    1033.0000    1387.0000    1713.0000    2066.0000   \n",
            "23    380.0000  ...    1099.0000    1481.0000    1833.0000    2213.0000   \n",
            "24    380.0000  ...    1099.0000    1481.0000    1833.0000    2213.0000   \n",
            "25    380.0000  ...    1099.0000    1481.0000    1833.0000    2213.0000   \n",
            "26    377.0000  ...    1105.0000    1483.0000    1833.0000    2210.0000   \n",
            "27    380.0000  ...    1099.0000    1481.0000    1833.0000    2213.0000   \n",
            "28    380.0000  ...    1099.0000    1481.0000    1833.0000    2213.0000   \n",
            "29    380.0000  ...    1099.0000    1481.0000    1833.0000    2213.0000   \n",
            "30    380.0000  ...    1099.0000    1481.0000    1833.0000    2213.0000   \n",
            "31    380.0000  ...    1099.0000    1481.0000    1833.0000    2213.0000   \n",
            "32    353.0000  ...    1033.0000    1387.0000    1713.0000    2066.0000   \n",
            "33    380.0000  ...    1099.0000    1481.0000    1833.0000    2213.0000   \n",
            "34    364.0000  ...    1053.0000    1419.0000    1756.0000    2120.0000   \n",
            "35    353.0000  ...    1033.0000    1387.0000    1713.0000    2066.0000   \n",
            "36    380.0000  ...    1099.0000    1481.0000    1833.0000    2213.0000   \n",
            "37    380.0000  ...    1099.0000    1481.0000    1833.0000    2213.0000   \n",
            "38    380.0000  ...    1099.0000    1481.0000    1833.0000    2213.0000   \n",
            "39    341.0000  ...     997.0000    1339.0000    1653.0000    1994.0000   \n",
            "40    380.0000  ...    1099.0000    1481.0000    1833.0000    2213.0000   \n",
            "41    380.0000  ...    1099.0000    1481.0000    1833.0000    2213.0000   \n",
            "42    380.0000  ...    1099.0000    1481.0000    1833.0000    2213.0000   \n",
            "43    353.0000  ...    1033.0000    1387.0000    1713.0000    2066.0000   \n",
            "44    353.0000  ...    1033.0000    1387.0000    1713.0000    2066.0000   \n",
            "45    380.0000  ...    1099.0000    1481.0000    1833.0000    2213.0000   \n",
            "46    353.0000  ...    1033.0000    1387.0000    1713.0000    2066.0000   \n",
            "47    380.0000  ...    1099.0000    1481.0000    1833.0000    2213.0000   \n",
            "48    353.0000  ...    1033.0000    1387.0000    1713.0000    2066.0000   \n",
            "49    380.0000  ...    1099.0000    1481.0000    1833.0000    2213.0000   \n",
            "50    380.0000  ...    1099.0000    1481.0000    1833.0000    2213.0000   \n",
            "51    380.0000  ...    1099.0000    1481.0000    1833.0000    2213.0000   \n",
            "52    380.0000  ...    1099.0000    1481.0000    1833.0000    2213.0000   \n",
            "53    380.0000  ...    1099.0000    1481.0000    1833.0000    2213.0000   \n",
            "54    380.0000  ...    1099.0000    1481.0000    1833.0000    2213.0000   \n",
            "\n",
            "    Unnamed: 23  Unnamed: 24  Unnamed: 25 Unnamed: 26  Unnamed: 27  \\\n",
            "0           NaN          NaN          NaN         NaN          NaN   \n",
            "1           NaN          NaN          NaN         NaN          NaN   \n",
            "2           NaN          NaN          NaN         NaN          NaN   \n",
            "3        4.2017       5.2017       6.2017      7.2017       8.2017   \n",
            "4        4.0000       5.0000       6.0000      7.0000       8.0000   \n",
            "5     2565.0000    2932.0000    3267.0000   3664.0000    4059.0000   \n",
            "6     2565.0000    2932.0000    3267.0000   3664.0000    4059.0000   \n",
            "7     2565.0000    2932.0000    3267.0000   3664.0000    4059.0000   \n",
            "8     2565.0000    2932.0000    3267.0000   3664.0000    4059.0000   \n",
            "9     2308.0000    2636.0000    2935.0000   3291.0000    3646.0000   \n",
            "10    2308.0000    2636.0000    2935.0000   3291.0000    3646.0000   \n",
            "11    2565.0000    2932.0000    3267.0000   3664.0000    4059.0000   \n",
            "12    2392.0000    2732.0000    3043.0000   3411.0000    3778.0000   \n",
            "13    2565.0000    2932.0000    3267.0000   3664.0000    4059.0000   \n",
            "14    2565.0000    2932.0000    3267.0000   3664.0000    4059.0000   \n",
            "15    2565.0000    2932.0000    3267.0000   3664.0000    4059.0000   \n",
            "16    2476.0000    2828.0000    3151.0000   3531.0000    3910.0000   \n",
            "17    2565.0000    2932.0000    3267.0000   3664.0000    4059.0000   \n",
            "18    2565.0000    2932.0000    3267.0000   3664.0000    4059.0000   \n",
            "19    2565.0000    2932.0000    3267.0000   3664.0000    4059.0000   \n",
            "20    2565.0000    2932.0000    3267.0000   3664.0000    4059.0000   \n",
            "21    2565.0000    2932.0000    3267.0000   3664.0000    4059.0000   \n",
            "22    2392.0000    2732.0000    3043.0000   3411.0000    3778.0000   \n",
            "23    2565.0000    2932.0000    3267.0000   3664.0000    4059.0000   \n",
            "24    2565.0000    2932.0000    3267.0000   3664.0000    4059.0000   \n",
            "25    2565.0000    2932.0000    3267.0000   3664.0000    4059.0000   \n",
            "26    2560.0000    2924.0000    3259.0000   3651.0000    4042.0000   \n",
            "27    2565.0000    2932.0000    3267.0000   3664.0000    4059.0000   \n",
            "28    2565.0000    2932.0000    3267.0000   3664.0000    4059.0000   \n",
            "29    2565.0000    2932.0000    3267.0000   3664.0000    4059.0000   \n",
            "30    2565.0000    2932.0000    3267.0000   3664.0000    4059.0000   \n",
            "31    2565.0000    2932.0000    3267.0000   3664.0000    4059.0000   \n",
            "32    2392.0000    2732.0000    3043.0000   3411.0000    3778.0000   \n",
            "33    2565.0000    2932.0000    3267.0000   3664.0000    4059.0000   \n",
            "34    2457.0000    2809.0000    3130.0000   3511.0000    3890.0000   \n",
            "35    2392.0000    2732.0000    3043.0000   3411.0000    3778.0000   \n",
            "36    2565.0000    2932.0000    3267.0000   3664.0000    4059.0000   \n",
            "37    2565.0000    2932.0000    3267.0000   3664.0000    4059.0000   \n",
            "38    2565.0000    2932.0000    3267.0000   3664.0000    4059.0000   \n",
            "39    2308.0000    2636.0000    2935.0000   3291.0000    3646.0000   \n",
            "40    2565.0000    2932.0000    3267.0000   3664.0000    4059.0000   \n",
            "41    2565.0000    2932.0000    3267.0000   3664.0000    4059.0000   \n",
            "42    2565.0000    2932.0000    3267.0000   3664.0000    4059.0000   \n",
            "43    2392.0000    2732.0000    3043.0000   3411.0000    3778.0000   \n",
            "44    2392.0000    2732.0000    3043.0000   3411.0000    3778.0000   \n",
            "45    2565.0000    2932.0000    3267.0000   3664.0000    4059.0000   \n",
            "46    2392.0000    2732.0000    3043.0000   3411.0000    3778.0000   \n",
            "47    2565.0000    2932.0000    3267.0000   3664.0000    4059.0000   \n",
            "48    2392.0000    2732.0000    3043.0000   3411.0000    3778.0000   \n",
            "49    2565.0000    2932.0000    3267.0000   3664.0000    4059.0000   \n",
            "50    2565.0000    2932.0000    3267.0000   3664.0000    4059.0000   \n",
            "51    2565.0000    2932.0000    3267.0000   3664.0000    4059.0000   \n",
            "52    2565.0000    2932.0000    3267.0000   3664.0000    4059.0000   \n",
            "53    2565.0000    2932.0000    3267.0000   3664.0000    4059.0000   \n",
            "54    2565.0000    2932.0000    3267.0000   3664.0000    4059.0000   \n",
            "\n",
            "    Unnamed: 28  \n",
            "0           NaN  \n",
            "1           NaN  \n",
            "2           NaN  \n",
            "3        9.2017  \n",
            "4        9.0000  \n",
            "5     4426.0000  \n",
            "6     4426.0000  \n",
            "7     4426.0000  \n",
            "8     4426.0000  \n",
            "9     3974.0000  \n",
            "10    3974.0000  \n",
            "11    4426.0000  \n",
            "12    4118.0000  \n",
            "13    4426.0000  \n",
            "14    4426.0000  \n",
            "15    4426.0000  \n",
            "16    4262.0000  \n",
            "17    4426.0000  \n",
            "18    4426.0000  \n",
            "19    4426.0000  \n",
            "20    4426.0000  \n",
            "21    4426.0000  \n",
            "22    4118.0000  \n",
            "23    4426.0000  \n",
            "24    4426.0000  \n",
            "25    4426.0000  \n",
            "26    4406.0000  \n",
            "27    4426.0000  \n",
            "28    4426.0000  \n",
            "29    4426.0000  \n",
            "30    4426.0000  \n",
            "31    4426.0000  \n",
            "32    4118.0000  \n",
            "33    4426.0000  \n",
            "34    4242.0000  \n",
            "35    4118.0000  \n",
            "36    4426.0000  \n",
            "37    4426.0000  \n",
            "38    4426.0000  \n",
            "39    3974.0000  \n",
            "40    4426.0000  \n",
            "41    4426.0000  \n",
            "42    4426.0000  \n",
            "43    4118.0000  \n",
            "44    4118.0000  \n",
            "45    4426.0000  \n",
            "46    4118.0000  \n",
            "47    4426.0000  \n",
            "48    4118.0000  \n",
            "49    4426.0000  \n",
            "50    4426.0000  \n",
            "51    4426.0000  \n",
            "52    4426.0000  \n",
            "53    4426.0000  \n",
            "54    4426.0000  \n",
            "\n",
            "[55 rows x 29 columns]\n"
          ]
        }
      ]
    },
    {
      "cell_type": "code",
      "source": [
        "df=pd.read_csv(\"/content/netflix_revenue_updated.csv\",sep=\" \")\n",
        "print(df.loc[1])\n",
        "df=pd.read_csv(\"/content/file1.txt\",sep=\" \")\n",
        "print(df.loc[1])\n"
      ],
      "metadata": {
        "id": "Ara1-XIN619t",
        "colab": {
          "base_uri": "https://localhost:8080/"
        },
        "outputId": "02fa8f3b-5888-4f0b-a9ef-fe0f70441aae"
      },
      "execution_count": null,
      "outputs": [
        {
          "output_type": "stream",
          "name": "stdout",
          "text": [
            "Date,Global       30-06-2019,4923116000,2501199000,1319087000,67...\n",
            "Revenue,UCAN                                                    NaN\n",
            "Streaming                                                       NaN\n",
            "Revenue,EMEA                                                    NaN\n",
            "Streaming.1                                                     NaN\n",
            "Revenue,LATM                                                    NaN\n",
            "Streaming.2                                                     NaN\n",
            "Revenue,APAC                                                    NaN\n",
            "Streaming.3                                                     NaN\n",
            "Revenue,UCAN.1                                                  NaN\n",
            "Members,EMEA                                                    NaN\n",
            "Unnamed: 11                                                     NaN\n",
            "Members,LATM                                                    NaN\n",
            "Members,APAC                                                    NaN\n",
            "Members,UCAN                                                    NaN\n",
            "ARPU,EMEA                                                       NaN\n",
            "ARPU,LATM                                                       NaN\n",
            "Unnamed: 17                                                     NaN\n",
            "ARPU,APAC                                                       NaN\n",
            "Unnamed: 19                                                     NaN\n",
            "ARPU,Netflix                                                    NaN\n",
            "Streaming.4                                                     NaN\n",
            "Memberships                                                     NaN\n",
            "Unnamed: 23                                                     NaN\n",
            "Name: 1, dtype: object\n",
            "file1    file3\n",
            "Name: 1, dtype: object\n"
          ]
        }
      ]
    },
    {
      "cell_type": "code",
      "source": [
        "import pandas as pd\n",
        "df=pd.read_csv(\"/content/netflix_revenue_updated.csv\")\n",
        "print(df)\n",
        "a=df.head(5)\n",
        "b=df.tail(5)\n",
        "total_data=pd.concat([a,b],axis=0)\n",
        "total_data.to_csv(\"c\")\n",
        "print(total_data.groupby(['EMEA Streaming Revenue'])['LATM Streaming Revenue'].count())"
      ],
      "metadata": {
        "colab": {
          "base_uri": "https://localhost:8080/"
        },
        "id": "R_9cyNeu8joX",
        "outputId": "15e968dc-18ba-48f0-ec7e-bc5063fe2bb4"
      },
      "execution_count": null,
      "outputs": [
        {
          "output_type": "stream",
          "name": "stdout",
          "text": [
            "          Date  Global Revenue  UCAN Streaming Revenue  \\\n",
            "0   31-03-2019      4520992000              2256851000   \n",
            "1   30-06-2019      4923116000              2501199000   \n",
            "2   30-09-2019      5244905000              2621250000   \n",
            "3   31-12-2019      5467434000              2671908000   \n",
            "4   31-03-2020      5767691000              2702776000   \n",
            "5   30-06-2020      6148286000              2839670000   \n",
            "6   30-09-2020      6435637000              2933445000   \n",
            "7   31-12-2020      6644442000              2979505000   \n",
            "8   31-03-2021      7163282000              3170972000   \n",
            "9   30-06-2021      7341777000              3234643000   \n",
            "10  30-09-2021      7483467000              3257697000   \n",
            "11  31-12-2021      7709318000              3308788000   \n",
            "12  31-03-2022      7867767000              3350424000   \n",
            "13  30-06-2022      7970141000              3537863000   \n",
            "14  30-09-2022      7925589000              3601565000   \n",
            "15  31-12-2022      7852053000              3594791000   \n",
            "16  31-03-2023      8161503000              3608645000   \n",
            "\n",
            "    EMEA Streaming Revenue  LATM Streaming Revenue  APAC Streaming Revenue  \\\n",
            "0               1233379000               630472000               319602000   \n",
            "1               1319087000               677136000               349494000   \n",
            "2               1428040000               741434000               382304000   \n",
            "3               1562561000               746392000               418121000   \n",
            "4               1723474000               793453000               483660000   \n",
            "5               1892537000               785368000               569140000   \n",
            "6               2019083000               789384000               634891000   \n",
            "7               2137158000               788522000               684609000   \n",
            "8               2343674000               836647000               762414000   \n",
            "9               2400480000               860882000               799480000   \n",
            "10              2432239000               915297000               834002000   \n",
            "11              2523426000               964150000               870705000   \n",
            "12              2561831000               998948000               916754000   \n",
            "13              2457235000              1030234000               907719000   \n",
            "14              2375814000              1023945000               889037000   \n",
            "15              2350135000              1016846000               856711000   \n",
            "16              2517641000              1070192000               933523000   \n",
            "\n",
            "    UCAN Members  EMEA  Members  LATM Members  APAC Members  UCAN ARPU  \\\n",
            "0       66633000       42542000      27547000      12141000      11.45   \n",
            "1       66501000       44229000      27890000      12942000      12.52   \n",
            "2       67114000       47355000      29380000      14485000      13.08   \n",
            "3       67662000       51778000      31417000      16233000      13.22   \n",
            "4       69969000       58734000      34318000      19835000      13.09   \n",
            "5       72904000       61483000      36068000      22492000      13.25   \n",
            "6       73081000       62242000      36324000      23504000      13.40   \n",
            "7       73936000       66698000      37537000      25492000      13.51   \n",
            "8       74384000       68508000      37894000      26853000      14.25   \n",
            "9       73951000       68696000      38658000      27875000      14.54   \n",
            "10      74024000       70500000      38988000      30051000      14.68   \n",
            "11      75215000       74036000      39961000      32632000      14.78   \n",
            "12      74579000       73733000      39610000      33719000      14.91   \n",
            "13      73283000       72966000      39624000      34799000      15.95   \n",
            "14      73387000       73534000      39936000      36228000      16.37   \n",
            "15      74296000       76729000      41699000      38023000      16.23   \n",
            "16      74398000       77373000      41249000      39478000      16.18   \n",
            "\n",
            "    EMEA ARPU  LATM  ARPU  APAC  ARPU  Netflix Streaming Memberships   \n",
            "0       10.23        7.84        9.37                       148863000  \n",
            "1       10.13        8.14        9.29                       151562000  \n",
            "2       10.40        8.63        9.29                       158334000  \n",
            "3       10.51        8.18        9.07                       167090000  \n",
            "4       10.40        8.05        8.94                       182856000  \n",
            "5       10.50        7.44        8.96                       192947000  \n",
            "6       10.88        7.27        9.20                       195151000  \n",
            "7       11.05        7.12        9.32                       203663000  \n",
            "8       11.56        7.39        9.71                       207639000  \n",
            "9       11.66        7.50        9.74                       209180000  \n",
            "10      11.65        7.86        9.60                       213563000  \n",
            "11      11.64        8.14        9.26                       221844000  \n",
            "12      11.56        8.37        9.21                       221641000  \n",
            "13      11.17        8.67        8.83                       220672000  \n",
            "14      10.81        8.58        8.34                       223085000  \n",
            "15      10.43        8.30        7.69                       230747000  \n",
            "16      10.89        8.60        8.03                       232498000  \n",
            "EMEA Streaming Revenue\n",
            "1233379000    1\n",
            "1319087000    1\n",
            "1428040000    1\n",
            "1562561000    1\n",
            "1723474000    1\n",
            "2350135000    1\n",
            "2375814000    1\n",
            "2457235000    1\n",
            "2517641000    1\n",
            "2561831000    1\n",
            "Name: LATM Streaming Revenue, dtype: int64\n"
          ]
        }
      ]
    },
    {
      "cell_type": "code",
      "source": [
        "df=pd.read_csv(\"/content/netflix_revenue_updated.csv\")\n",
        "print(df)\n",
        "df=df.drop_duplicates()\n",
        "print(df)"
      ],
      "metadata": {
        "colab": {
          "base_uri": "https://localhost:8080/"
        },
        "id": "xoY7uT2gAGkL",
        "outputId": "ee9cd8e7-33f1-44d6-b6ee-4a6d1c8866a0"
      },
      "execution_count": null,
      "outputs": [
        {
          "output_type": "stream",
          "name": "stdout",
          "text": [
            "          Date  Global Revenue  UCAN Streaming Revenue  \\\n",
            "0   31-03-2019      4520992000              2256851000   \n",
            "1   30-06-2019      4923116000              2501199000   \n",
            "2   30-09-2019      5244905000              2621250000   \n",
            "3   31-12-2019      5467434000              2671908000   \n",
            "4   31-03-2020      5767691000              2702776000   \n",
            "5   30-06-2020      6148286000              2839670000   \n",
            "6   30-09-2020      6435637000              2933445000   \n",
            "7   31-12-2020      6644442000              2979505000   \n",
            "8   31-03-2021      7163282000              3170972000   \n",
            "9   30-06-2021      7341777000              3234643000   \n",
            "10  30-09-2021      7483467000              3257697000   \n",
            "11  31-12-2021      7709318000              3308788000   \n",
            "12  31-03-2022      7867767000              3350424000   \n",
            "13  30-06-2022      7970141000              3537863000   \n",
            "14  30-09-2022      7925589000              3601565000   \n",
            "15  31-12-2022      7852053000              3594791000   \n",
            "16  31-03-2023      8161503000              3608645000   \n",
            "\n",
            "    EMEA Streaming Revenue  LATM Streaming Revenue  APAC Streaming Revenue  \\\n",
            "0               1233379000               630472000               319602000   \n",
            "1               1319087000               677136000               349494000   \n",
            "2               1428040000               741434000               382304000   \n",
            "3               1562561000               746392000               418121000   \n",
            "4               1723474000               793453000               483660000   \n",
            "5               1892537000               785368000               569140000   \n",
            "6               2019083000               789384000               634891000   \n",
            "7               2137158000               788522000               684609000   \n",
            "8               2343674000               836647000               762414000   \n",
            "9               2400480000               860882000               799480000   \n",
            "10              2432239000               915297000               834002000   \n",
            "11              2523426000               964150000               870705000   \n",
            "12              2561831000               998948000               916754000   \n",
            "13              2457235000              1030234000               907719000   \n",
            "14              2375814000              1023945000               889037000   \n",
            "15              2350135000              1016846000               856711000   \n",
            "16              2517641000              1070192000               933523000   \n",
            "\n",
            "    UCAN Members  EMEA  Members  LATM Members  APAC Members  UCAN ARPU  \\\n",
            "0       66633000       42542000      27547000      12141000      11.45   \n",
            "1       66501000       44229000      27890000      12942000      12.52   \n",
            "2       67114000       47355000      29380000      14485000      13.08   \n",
            "3       67662000       51778000      31417000      16233000      13.22   \n",
            "4       69969000       58734000      34318000      19835000      13.09   \n",
            "5       72904000       61483000      36068000      22492000      13.25   \n",
            "6       73081000       62242000      36324000      23504000      13.40   \n",
            "7       73936000       66698000      37537000      25492000      13.51   \n",
            "8       74384000       68508000      37894000      26853000      14.25   \n",
            "9       73951000       68696000      38658000      27875000      14.54   \n",
            "10      74024000       70500000      38988000      30051000      14.68   \n",
            "11      75215000       74036000      39961000      32632000      14.78   \n",
            "12      74579000       73733000      39610000      33719000      14.91   \n",
            "13      73283000       72966000      39624000      34799000      15.95   \n",
            "14      73387000       73534000      39936000      36228000      16.37   \n",
            "15      74296000       76729000      41699000      38023000      16.23   \n",
            "16      74398000       77373000      41249000      39478000      16.18   \n",
            "\n",
            "    EMEA ARPU  LATM  ARPU  APAC  ARPU  Netflix Streaming Memberships   \n",
            "0       10.23        7.84        9.37                       148863000  \n",
            "1       10.13        8.14        9.29                       151562000  \n",
            "2       10.40        8.63        9.29                       158334000  \n",
            "3       10.51        8.18        9.07                       167090000  \n",
            "4       10.40        8.05        8.94                       182856000  \n",
            "5       10.50        7.44        8.96                       192947000  \n",
            "6       10.88        7.27        9.20                       195151000  \n",
            "7       11.05        7.12        9.32                       203663000  \n",
            "8       11.56        7.39        9.71                       207639000  \n",
            "9       11.66        7.50        9.74                       209180000  \n",
            "10      11.65        7.86        9.60                       213563000  \n",
            "11      11.64        8.14        9.26                       221844000  \n",
            "12      11.56        8.37        9.21                       221641000  \n",
            "13      11.17        8.67        8.83                       220672000  \n",
            "14      10.81        8.58        8.34                       223085000  \n",
            "15      10.43        8.30        7.69                       230747000  \n",
            "16      10.89        8.60        8.03                       232498000  \n",
            "          Date  Global Revenue  UCAN Streaming Revenue  \\\n",
            "0   31-03-2019      4520992000              2256851000   \n",
            "1   30-06-2019      4923116000              2501199000   \n",
            "2   30-09-2019      5244905000              2621250000   \n",
            "3   31-12-2019      5467434000              2671908000   \n",
            "4   31-03-2020      5767691000              2702776000   \n",
            "5   30-06-2020      6148286000              2839670000   \n",
            "6   30-09-2020      6435637000              2933445000   \n",
            "7   31-12-2020      6644442000              2979505000   \n",
            "8   31-03-2021      7163282000              3170972000   \n",
            "9   30-06-2021      7341777000              3234643000   \n",
            "10  30-09-2021      7483467000              3257697000   \n",
            "11  31-12-2021      7709318000              3308788000   \n",
            "12  31-03-2022      7867767000              3350424000   \n",
            "13  30-06-2022      7970141000              3537863000   \n",
            "14  30-09-2022      7925589000              3601565000   \n",
            "15  31-12-2022      7852053000              3594791000   \n",
            "16  31-03-2023      8161503000              3608645000   \n",
            "\n",
            "    EMEA Streaming Revenue  LATM Streaming Revenue  APAC Streaming Revenue  \\\n",
            "0               1233379000               630472000               319602000   \n",
            "1               1319087000               677136000               349494000   \n",
            "2               1428040000               741434000               382304000   \n",
            "3               1562561000               746392000               418121000   \n",
            "4               1723474000               793453000               483660000   \n",
            "5               1892537000               785368000               569140000   \n",
            "6               2019083000               789384000               634891000   \n",
            "7               2137158000               788522000               684609000   \n",
            "8               2343674000               836647000               762414000   \n",
            "9               2400480000               860882000               799480000   \n",
            "10              2432239000               915297000               834002000   \n",
            "11              2523426000               964150000               870705000   \n",
            "12              2561831000               998948000               916754000   \n",
            "13              2457235000              1030234000               907719000   \n",
            "14              2375814000              1023945000               889037000   \n",
            "15              2350135000              1016846000               856711000   \n",
            "16              2517641000              1070192000               933523000   \n",
            "\n",
            "    UCAN Members  EMEA  Members  LATM Members  APAC Members  UCAN ARPU  \\\n",
            "0       66633000       42542000      27547000      12141000      11.45   \n",
            "1       66501000       44229000      27890000      12942000      12.52   \n",
            "2       67114000       47355000      29380000      14485000      13.08   \n",
            "3       67662000       51778000      31417000      16233000      13.22   \n",
            "4       69969000       58734000      34318000      19835000      13.09   \n",
            "5       72904000       61483000      36068000      22492000      13.25   \n",
            "6       73081000       62242000      36324000      23504000      13.40   \n",
            "7       73936000       66698000      37537000      25492000      13.51   \n",
            "8       74384000       68508000      37894000      26853000      14.25   \n",
            "9       73951000       68696000      38658000      27875000      14.54   \n",
            "10      74024000       70500000      38988000      30051000      14.68   \n",
            "11      75215000       74036000      39961000      32632000      14.78   \n",
            "12      74579000       73733000      39610000      33719000      14.91   \n",
            "13      73283000       72966000      39624000      34799000      15.95   \n",
            "14      73387000       73534000      39936000      36228000      16.37   \n",
            "15      74296000       76729000      41699000      38023000      16.23   \n",
            "16      74398000       77373000      41249000      39478000      16.18   \n",
            "\n",
            "    EMEA ARPU  LATM  ARPU  APAC  ARPU  Netflix Streaming Memberships   \n",
            "0       10.23        7.84        9.37                       148863000  \n",
            "1       10.13        8.14        9.29                       151562000  \n",
            "2       10.40        8.63        9.29                       158334000  \n",
            "3       10.51        8.18        9.07                       167090000  \n",
            "4       10.40        8.05        8.94                       182856000  \n",
            "5       10.50        7.44        8.96                       192947000  \n",
            "6       10.88        7.27        9.20                       195151000  \n",
            "7       11.05        7.12        9.32                       203663000  \n",
            "8       11.56        7.39        9.71                       207639000  \n",
            "9       11.66        7.50        9.74                       209180000  \n",
            "10      11.65        7.86        9.60                       213563000  \n",
            "11      11.64        8.14        9.26                       221844000  \n",
            "12      11.56        8.37        9.21                       221641000  \n",
            "13      11.17        8.67        8.83                       220672000  \n",
            "14      10.81        8.58        8.34                       223085000  \n",
            "15      10.43        8.30        7.69                       230747000  \n",
            "16      10.89        8.60        8.03                       232498000  \n"
          ]
        }
      ]
    },
    {
      "cell_type": "code",
      "source": [],
      "metadata": {
        "id": "VtueVMU9CAdI"
      },
      "execution_count": null,
      "outputs": []
    },
    {
      "cell_type": "code",
      "source": [
        "df=pd.read_csv(\"/content/netflix_revenue_updated.csv\")\n",
        "print(df)\n"
      ],
      "metadata": {
        "id": "-y2dTTSYCF-x"
      },
      "execution_count": null,
      "outputs": []
    },
    {
      "cell_type": "code",
      "source": [
        "\n"
      ],
      "metadata": {
        "id": "beOUHlAVINv8"
      },
      "execution_count": null,
      "outputs": []
    },
    {
      "cell_type": "code",
      "source": [],
      "metadata": {
        "id": "nb9CBCktFOE5"
      },
      "execution_count": null,
      "outputs": []
    },
    {
      "cell_type": "code",
      "source": [],
      "metadata": {
        "id": "DM6cqsKfyX66"
      },
      "execution_count": null,
      "outputs": []
    },
    {
      "cell_type": "code",
      "source": [
        "from google.colab import drive\n",
        "drive.mount('/content/drive')\n",
        "\n"
      ],
      "metadata": {
        "colab": {
          "base_uri": "https://localhost:8080/"
        },
        "id": "W54I91TMGO9s",
        "outputId": "d64ec50f-fe06-4280-edf1-564f07279863"
      },
      "execution_count": null,
      "outputs": [
        {
          "output_type": "stream",
          "name": "stdout",
          "text": [
            "Mounted at /content/drive\n"
          ]
        }
      ]
    },
    {
      "cell_type": "code",
      "source": [
        "import numpy as np\n",
        "import matplotlib.pyplot as plt\n",
        "runs=np.array([100,50,91,78,89,25,34,19,9,10])\n",
        "w=np.array([1,0,2,0,3,7,8,9,7,5])\n",
        "plt.plot(runs,w,color=\"black\")\n",
        "plt.title(\"IndvsAus_score\")\n",
        "plt.show\n",
        "\n",
        "\n"
      ],
      "metadata": {
        "colab": {
          "base_uri": "https://localhost:8080/",
          "height": 469
        },
        "id": "4eM7rnQHYGHl",
        "outputId": "16f48736-f765-457b-c1e2-ea6b5887f4a1"
      },
      "execution_count": null,
      "outputs": [
        {
          "output_type": "execute_result",
          "data": {
            "text/plain": [
              "<function matplotlib.pyplot.show(close=None, block=None)>"
            ]
          },
          "metadata": {},
          "execution_count": 6
        },
        {
          "output_type": "display_data",
          "data": {
            "text/plain": [
              "<Figure size 640x480 with 1 Axes>"
            ],
            "image/png": "[encoded data removed]"
          },
          "metadata": {}
        }
      ]
    },
    {
      "cell_type": "code",
      "source": [
        "import numpy as np\n",
        "import matplotlib.pyplot as plt\n",
        "#Generate array of 200 values between pi &pi\n",
        "tiger=np.linspace(-2*np.pi,2*np.pi,50)\n",
        "print(tiger)\n",
        "\n",
        "plt.plot(tiger,np.sin(tiger),color=\"black\")\n",
        "#plt.plot(x,y,,color,lables....)\n",
        "plt.title(\"sin(x)\")\n",
        "\n"
      ],
      "metadata": {
        "colab": {
          "base_uri": "https://localhost:8080/",
          "height": 626
        },
        "id": "eCIsQA74YWcf",
        "outputId": "5622876f-6c8b-4463-a4e6-00b439543917"
      },
      "execution_count": null,
      "outputs": [
        {
          "output_type": "stream",
          "name": "stdout",
          "text": [
            "[-6.28318531 -6.02672876 -5.77027222 -5.51381568 -5.25735913 -5.00090259\n",
            " -4.74444605 -4.48798951 -4.23153296 -3.97507642 -3.71861988 -3.46216333\n",
            " -3.20570679 -2.94925025 -2.6927937  -2.43633716 -2.17988062 -1.92342407\n",
            " -1.66696753 -1.41051099 -1.15405444 -0.8975979  -0.64114136 -0.38468481\n",
            " -0.12822827  0.12822827  0.38468481  0.64114136  0.8975979   1.15405444\n",
            "  1.41051099  1.66696753  1.92342407  2.17988062  2.43633716  2.6927937\n",
            "  2.94925025  3.20570679  3.46216333  3.71861988  3.97507642  4.23153296\n",
            "  4.48798951  4.74444605  5.00090259  5.25735913  5.51381568  5.77027222\n",
            "  6.02672876  6.28318531]\n"
          ]
        },
        {
          "output_type": "execute_result",
          "data": {
            "text/plain": [
              "Text(0.5, 1.0, 'sin(x)')"
            ]
          },
          "metadata": {},
          "execution_count": 7
        },
        {
          "output_type": "display_data",
          "data": {
            "text/plain": [
              "<Figure size 640x480 with 1 Axes>"
            ],
            "image/png": "[encoded data removed]"
          },
          "metadata": {}
        }
      ]
    },
    {
      "cell_type": "code",
      "source": [
        "import numpy as np\n",
        "import matplotlib.pyplot as plt\n",
        "#creating X\n",
        "overs=np.arange(5,50,5)\n",
        "overs_a=np.arange(5,30,5)\n",
        "#creating y\n",
        "runs_i=np.array([25,51,84,131,160,189,220,250,267])\n",
        "runs_a=np.array([15,41,94,110,151])\n",
        "wickets=np.array([12,32,96])\n",
        "#plotting\n",
        "plt.subplot(2,1,2)\n",
        "plt.plot(overs,runs_i,color=\"blue\",label=\"India\")\n",
        "plt.subplot(2,1,1)\n",
        "plt.plot(overs_a,runs_a,color=\"black\",label=\"Aus\")\n",
        "plt.legend(loc=\"best\")\n",
        "#plt.subplot(2,1,2)\n",
        "#plt.subplot(2,1,1)\n"
      ],
      "metadata": {
        "colab": {
          "base_uri": "https://localhost:8080/",
          "height": 447
        },
        "id": "G8Y3jAdVYjRK",
        "outputId": "e73606f3-7af2-41a9-913f-927abb96a8a2"
      },
      "execution_count": null,
      "outputs": [
        {
          "output_type": "execute_result",
          "data": {
            "text/plain": [
              "<matplotlib.legend.Legend at 0x7cfe7b725a20>"
            ]
          },
          "metadata": {},
          "execution_count": 8
        },
        {
          "output_type": "display_data",
          "data": {
            "text/plain": [
              "<Figure size 640x480 with 2 Axes>"
            ],
            "image/png": "[encoded data removed]"
          },
          "metadata": {}
        }
      ]
    },
    {
      "cell_type": "code",
      "source": [
        "import matplotlib.pyplot as plt\n",
        "a=[230,560,780,127,128]\n",
        "b=[200,160,270,127,400]\n",
        "years=[1,2,3,4]\n",
        "profit_a=[(a[i]-a[i-1]) for i in range(1,len(a))]\n",
        "profit_b=[(b[i]-b[i-1]) for i in range(1,len(b))]\n",
        "plt.subplot(2,1,2)\n",
        "plt.plot(years,profit_a,color=\"hotpink\",linewidth=\"3\",label=\"CompanyA\",marker=\".\",ms=\"15\",mec=\"k\")\n",
        "plt.legend(loc=\"best\")\n",
        "plt.subplot(2,1,1)\n",
        "plt.plot(years,profit_b,color=\"black\",linestyle=\"dotted\",label=\"CompanyB\",marker=\"*\")\n",
        "plt.legend(loc=\"best\")\n",
        "#plt.subplot(2,1,2)\n"
      ],
      "metadata": {
        "colab": {
          "base_uri": "https://localhost:8080/",
          "height": 447
        },
        "id": "okajcobAYnle",
        "outputId": "7e98803d-447d-464c-93f4-635306bb01f5"
      },
      "execution_count": null,
      "outputs": [
        {
          "output_type": "execute_result",
          "data": {
            "text/plain": [
              "<matplotlib.legend.Legend at 0x7cfe7b675e70>"
            ]
          },
          "metadata": {},
          "execution_count": 9
        },
        {
          "output_type": "display_data",
          "data": {
            "text/plain": [
              "<Figure size 640x480 with 2 Axes>"
            ],
            "image/png": "[encoded data removed]"
          },
          "metadata": {}
        }
      ]
    },
    {
      "cell_type": "code",
      "source": [
        "import matplotlib.pyplot as plt\n",
        "a=np.array([25,60,5,10])\n",
        "labe=[\"AIML\",\"python\",\"pandas\",\"Numpy\"]\n",
        "explo = [0.2,0,0,0]\n",
        "plt.pie(a,labels=labe,explode=explo,startangle=180,textprops={'fontsize':32})\n",
        "plt.show()\n",
        "plt.figure(figsize=(100, 50))\n"
      ],
      "metadata": {
        "colab": {
          "base_uri": "https://localhost:8080/",
          "height": 441
        },
        "id": "cWx42P-TY9_q",
        "outputId": "c32dec4b-b77f-436f-8d0f-eb126234224c"
      },
      "execution_count": null,
      "outputs": [
        {
          "output_type": "display_data",
          "data": {
            "text/plain": [
              "<Figure size 640x480 with 1 Axes>"
            ],
            "image/png": "[encoded data removed]"
          },
          "metadata": {}
        },
        {
          "output_type": "execute_result",
          "data": {
            "text/plain": [
              "<Figure size 10000x5000 with 0 Axes>"
            ]
          },
          "metadata": {},
          "execution_count": 10
        },
        {
          "output_type": "display_data",
          "data": {
            "text/plain": [
              "<Figure size 10000x5000 with 0 Axes>"
            ]
          },
          "metadata": {}
        }
      ]
    },
    {
      "cell_type": "code",
      "source": [
        "import matplotlib.pyplot as plt\n",
        "a=np.array([25,60,5,10])\n",
        "labe=[\"AIML\",\"python\",\"pandas\",\"Numpy\"]\n",
        "explo = [0.2,0,0,0]\n",
        "plt.pie(a,labels=labe,explode=explo,startangle=180,textprops={'fontsize':32})\n",
        "plt.show()\n"
      ],
      "metadata": {
        "colab": {
          "base_uri": "https://localhost:8080/",
          "height": 406
        },
        "id": "Ht5atzw2ZSHd",
        "outputId": "5929c31e-b363-4095-cd4d-c0219b0bc474"
      },
      "execution_count": null,
      "outputs": [
        {
          "output_type": "display_data",
          "data": {
            "text/plain": [
              "<Figure size 640x480 with 1 Axes>"
            ],
            "image/png": "[encoded data removed]"
          },
          "metadata": {}
        }
      ]
    },
    {
      "cell_type": "code",
      "source": [
        "import matplotlib.pyplot as plt\n",
        "a=np.array([25,60,5,10])\n",
        "labe=[\"AIML\",\"python\",\"pandas\",\"Numpy\"]\n",
        "plt.pie(a,labels=labe)\n",
        "co=[\"green\",\"yellow\",\"black\",\"purple\"]\n",
        "plt.pie(a,colors=co)\n",
        "\n",
        "plt.show()"
      ],
      "metadata": {
        "colab": {
          "base_uri": "https://localhost:8080/",
          "height": 406
        },
        "id": "6rLDD_c7ZkMf",
        "outputId": "f17c5d7d-5b66-468e-e3fc-ded18425dc29"
      },
      "execution_count": null,
      "outputs": [
        {
          "output_type": "display_data",
          "data": {
            "text/plain": [
              "<Figure size 640x480 with 1 Axes>"
            ],
            "image/png": "[encoded data removed]"
          },
          "metadata": {}
        }
      ]
    },
    {
      "cell_type": "code",
      "source": [
        "import pandas as pd\n",
        "import numpy as np\n",
        "# Load the dataset containing daily temperatures\n",
        "# Assuming the dataset is in a CSV file named 'temperature_data.csv' with a column named 'temperature'\n",
        "df = pd.read_csv('/content/city__temperature.csv')\n",
        "print(df)\n",
        "\n",
        "\n",
        "average_temperature = df['AvgTemperature'].mean()\n",
        "highest_temperature = df['AvgTemperature'].max()\n",
        "lowest_temperature = df['AvgTemperature'].min()\n",
        "threshold = 30\n",
        "days_above_threshold = df[df['AvgTemperature'] > threshold].shape[0]\n",
        "\n",
        "\n",
        "print(\"Average temperature for the month:\", average_temperature)\n",
        "print(\"Highest temperature recorded:\", highest_temperature)\n",
        "print(\"Lowest temperature recorded:\", lowest_temperature)\n",
        "print(\"Number of days where temperature exceeded\", threshold, \"degrees Celsius:\", days_above_threshold)"
      ],
      "metadata": {
        "id": "QcFqfZuiFtMz",
        "colab": {
          "base_uri": "https://localhost:8080/"
        },
        "outputId": "fc7f9dbe-6014-46ec-aca5-6b14b4b0448b"
      },
      "execution_count": null,
      "outputs": [
        {
          "output_type": "stream",
          "name": "stdout",
          "text": [
            "       Region   Country  State         City  Month  Day    Year  \\\n",
            "0      Africa   Algeria    NaN      Algiers    1.0  1.0  1995.0   \n",
            "1      Africa   Algeria    NaN      Algiers    1.0  2.0  1995.0   \n",
            "2      Africa   Algeria    NaN      Algiers    1.0  3.0  1995.0   \n",
            "3      Africa   Algeria    NaN      Algiers    1.0  4.0  1995.0   \n",
            "4      Africa   Algeria    NaN      Algiers    1.0  5.0  1995.0   \n",
            "...       ...       ...    ...          ...    ...  ...     ...   \n",
            "78051  Africa  Ethiopia    NaN  Addis Ababa    1.0  5.0  1995.0   \n",
            "78052  Africa  Ethiopia    NaN  Addis Ababa    1.0  6.0  1995.0   \n",
            "78053  Africa  Ethiopia    NaN  Addis Ababa    1.0  7.0  1995.0   \n",
            "78054  Africa  Ethiopia    NaN  Addis Ababa    1.0  8.0  1995.0   \n",
            "78055  Africa  Ethiopia    NaN  Addis Ababa    NaN  NaN     NaN   \n",
            "\n",
            "       AvgTemperature  \n",
            "0                64.2  \n",
            "1                49.4  \n",
            "2                48.8  \n",
            "3                46.4  \n",
            "4                47.9  \n",
            "...               ...  \n",
            "78051            62.3  \n",
            "78052            59.3  \n",
            "78053            58.3  \n",
            "78054            57.0  \n",
            "78055             NaN  \n",
            "\n",
            "[78056 rows x 8 columns]\n",
            "Average temperature for the month: 58.70892715299664\n",
            "Highest temperature recorded: 102.8\n",
            "Lowest temperature recorded: -99.0\n",
            "Number of days where temperature exceeded 30 degrees Celsius: 70307\n"
          ]
        }
      ]
    },
    {
      "cell_type": "code",
      "source": [
        "import pandas as pd\n",
        "import numpy as np\n",
        "import matplotlib.pyplot as plt\n",
        "df=pd.read_csv(\"/content/plot.csv\")\n",
        "print(df)\n",
        "print(\"Least Temperature Noted in January:\\n\",df.min())\n",
        "print(\"Heightest Temperature Noted in January:\\n\",df.max())\n",
        "c=df['JAN'].mean()\n",
        "print(\"Average Temperature in the Month of January\",c)\n",
        "year = np.arange(1901,1950)\n",
        "temp=np.array([22.4,24.93,23.44,22.5,22,22.28,24.46,23.57,22.67,23.24,23.22,23.7,23.71,24.42,22.6,24.13,23.68,22.06,23.32,22.87,23.57,22.96,23.25,22.84,22.56,23.54,23.23,23.33,23.05,22.6,24.57,24.13,22.85,22.76,22.28,23.1,23.34,22.95,23.61,23.79,23.18,22.99,22.97,23.17,22.38,24.41,22.61,22.87,24.31])\n",
        "plt.plot(year,temp,color='black',label=\"x-axis=year\\ny-axis=temp\")\n",
        "plt.legend(loc='best')\n",
        "plt.title(\"Temperatures in January\")\n",
        "plt.show()"
      ],
      "metadata": {
        "colab": {
          "base_uri": "https://localhost:8080/",
          "height": 1000
        },
        "id": "3CzEXJzvUP7W",
        "outputId": "01f811cf-a729-418d-98a3-6994252bf1e4"
      },
      "execution_count": null,
      "outputs": [
        {
          "output_type": "stream",
          "name": "stdout",
          "text": [
            "    YEAR    JAN Location\n",
            "0   1901  22.40       AP\n",
            "1   1902  24.93       AP\n",
            "2   1903  23.44       AP\n",
            "3   1904  22.50       AP\n",
            "4   1905  22.00       AP\n",
            "5   1906  22.28       AP\n",
            "6   1907  24.46       AP\n",
            "7   1908  23.57       AP\n",
            "8   1909  22.67       AP\n",
            "9   1910  23.24       AP\n",
            "10  1911  23.22       AP\n",
            "11  1912  23.70       AP\n",
            "12  1913  23.71       AP\n",
            "13  1914  24.42       AP\n",
            "14  1915  22.60       AP\n",
            "15  1916  24.13       AP\n",
            "16  1917  23.68       AP\n",
            "17  1918  22.06       AP\n",
            "18  1919  23.32       AP\n",
            "19  1920  22.87       AP\n",
            "20  1921  23.57       AP\n",
            "21  1922  22.96       AP\n",
            "22  1923  23.25       AP\n",
            "23  1924  22.84       AP\n",
            "24  1925  22.56       AP\n",
            "25  1926  23.54       AP\n",
            "26  1927  23.23       AP\n",
            "27  1928  23.33       AP\n",
            "28  1929  23.05       AP\n",
            "29  1930  22.60       AP\n",
            "30  1931  24.57       AP\n",
            "31  1932  24.13       AP\n",
            "32  1933  22.85       AP\n",
            "33  1934  22.76       AP\n",
            "34  1935  22.28       AP\n",
            "35  1936  23.10       AP\n",
            "36  1937  23.34       AP\n",
            "37  1938  22.95       AP\n",
            "38  1939  23.61       AP\n",
            "39  1940  23.79       AP\n",
            "40  1941  23.18       AP\n",
            "41  1942  22.99       AP\n",
            "42  1943  22.97       AP\n",
            "43  1944  23.17       AP\n",
            "44  1945  22.38       AP\n",
            "45  1946  24.41       AP\n",
            "46  1947  22.61       AP\n",
            "47  1948  22.87       AP\n",
            "48  1949  24.31       AP\n",
            "Least Temperature Noted in January:\n",
            " YEAR        1901\n",
            "JAN         22.0\n",
            "Location      AP\n",
            "dtype: object\n",
            "Heightest Temperature Noted in January:\n",
            " YEAR         1949\n",
            "JAN         24.93\n",
            "Location       AP\n",
            "dtype: object\n",
            "Average Temperature in the Month of January 23.232653061224493\n"
          ]
        },
        {
          "output_type": "display_data",
          "data": {
            "text/plain": [
              "<Figure size 640x480 with 1 Axes>"
            ],
            "image/png": "[encoded data removed]"
          },
          "metadata": {}
        }
      ]
    }
  ]
}